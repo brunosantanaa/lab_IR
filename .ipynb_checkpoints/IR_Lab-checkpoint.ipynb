{
 "cells": [
  {
   "cell_type": "markdown",
   "metadata": {},
   "source": [
    "# IR Lab"
   ]
  },
  {
   "cell_type": "markdown",
   "metadata": {},
   "source": [
    "Notebook destinado a desenvolver o meu primeiro interpretador de impulse response."
   ]
  },
  {
   "cell_type": "code",
   "execution_count": 1,
   "metadata": {},
   "outputs": [],
   "source": [
    "import os, math\n",
    "import numpy as np"
   ]
  },
  {
   "cell_type": "markdown",
   "metadata": {},
   "source": [
    "## WAV File"
   ]
  },
  {
   "cell_type": "markdown",
   "metadata": {},
   "source": [
    "Tratando o arquivo wav."
   ]
  },
  {
   "cell_type": "markdown",
   "metadata": {},
   "source": [
    "## Transformando os pacotes de bytes em inteiro"
   ]
  },
  {
   "cell_type": "code",
   "execution_count": 2,
   "metadata": {},
   "outputs": [],
   "source": [
    "def binary_to_integer(num):\n",
    "    it = len(num)\n",
    "    r = 0\n",
    "    for i in range(0, it):\n",
    "        r = r + (num[i] << (8 * i))\n",
    "    return r"
   ]
  },
  {
   "cell_type": "markdown",
   "metadata": {},
   "source": [
    "## Função que interpreta o arquivo wav"
   ]
  },
  {
   "cell_type": "code",
   "execution_count": 17,
   "metadata": {},
   "outputs": [],
   "source": [
    "def wav_file(file):\n",
    "    resp ={\n",
    "    \"ID\" : file[0:4],\n",
    "    \"size\" : file[4:8],\n",
    "    \"format\" : file[8:12],\n",
    "    \"sub_chunk_1_id\" : file[12:16],\n",
    "    \"sub_chunk_1_size\" : file[16:20],\n",
    "    \"audio_format\" : file[20:22],\n",
    "    \"num_channels\" : file[22:24],\n",
    "    \"sample_rate\" : file[24:28],\n",
    "    \"byte_rate\" : file[28:32],\n",
    "    \"block_align\" : file[32:34],\n",
    "    \"bits_per_sample\" : file[34:36],\n",
    "    #\"sub_chunk_2_id\" : file[728:732],\n",
    "    #\"sub_chunk_2_size\" : file[732:736],\n",
    "    #\"sub_chunk_2_id\" : b'',\n",
    "    #\"sub_chunk_2_size\" : b'',\n",
    "    #\"data\" : b''a\n",
    "    }\n",
    "    for i in range(36, len(file)):\n",
    "        if (file[i:i+4] == b'data'):\n",
    "            resp.update({\n",
    "                \"sub_chunk_2_id\": file[i:(i+4)], \n",
    "                \"sub_chunk_2_size\": file[(i+4):(i+8)]\n",
    "            })\n",
    "            data = (i+8)\n",
    "    \n",
    "    bytes_n = int(binary_to_integer(resp[\"bits_per_sample\"]) / 8)\n",
    "    print(\"Bytes :\" + str(bytes_n))\n",
    "    if binary_to_integer(resp[\"num_channels\"]) == 2:\n",
    "        print(\"File Stereo n de iteracoes: \" + str(len(file[data:]) / 2))\n",
    "\n",
    "        left = b'0'\n",
    "        right = b'0'\n",
    "        for i in range(0, int(len(file[data:]) / 2), int(2*bytes_n)):\n",
    "            for j in range(0, bytes_n):\n",
    "                left = left + file[data+j+i]\n",
    "                right = right + file[data+bytes_n+j+i]\n",
    "        resp.update({\n",
    "            \"data_left\" : left,\n",
    "            \"data_right\": right\n",
    "        })\n",
    "        \n",
    "    else:\n",
    "        print(\"File Mono\")\n",
    "        resp.update({\"data\" : file[data:]})\n",
    "    return (resp)\n",
    "def create_data(data, format_data=24):\n",
    "    n_byte = int(format_data / 8)\n",
    "    ma = int(pow(2, format_data))\n",
    "    r = []\n",
    "    for d in data:\n",
    "        if d < 0:\n",
    "            d = d + ma\n",
    "        for i in range(0, n_byte):\n",
    "            r.append(int(d) >> (8 * i) & 255)\n",
    "        \n",
    "    return r"
   ]
  },
  {
   "cell_type": "markdown",
   "metadata": {},
   "source": [
    "## Convertendo o valor Binário em Sinal"
   ]
  },
  {
   "cell_type": "code",
   "execution_count": 8,
   "metadata": {},
   "outputs": [],
   "source": [
    "def data_converter_integer(dt, format_data=24):\n",
    "    resp_data = []\n",
    "\n",
    "    for i in range(0, len(dt), int(format_data / 8)):\n",
    "        value = []\n",
    "        for j in range(0, int(format_data / 8)):\n",
    "            value.append(dt[i+j])\n",
    "        val_int = binary_to_integer(value)\n",
    "        resp_data.append(val_int)\n",
    "    return resp_data\n",
    "\n",
    "def byte_db(dt, format_data):\n",
    "    resp = []\n",
    "    ma = int(pow(2, format_data))\n",
    "    for r in dt:\n",
    "        if (r > (ma / 2)):\n",
    "            r = r - ma\n",
    "        resp.append(r)\n",
    "    return resp"
   ]
  },
  {
   "cell_type": "markdown",
   "metadata": {},
   "source": [
    "## IR - Application"
   ]
  },
  {
   "cell_type": "code",
   "execution_count": 9,
   "metadata": {},
   "outputs": [],
   "source": [
    "def convolution(ir, sign):\n",
    "    rdc = abs(max(sign) - min(sign)) * 10\n",
    "    resp = []\n",
    "    for i in range(0, len(sign)):\n",
    "        r = 0\n",
    "        rj = i\n",
    "        if i > len(ir):\n",
    "            rj = len(ir)\n",
    "        for j in range(0, rj):\n",
    "            r = r + (ir[j] * sign[i - j])\n",
    "        resp.append(r / rdc)\n",
    "    return resp"
   ]
  },
  {
   "cell_type": "markdown",
   "metadata": {},
   "source": [
    "## Tratando os arquivos de teste"
   ]
  },
  {
   "cell_type": "code",
   "execution_count": 18,
   "metadata": {},
   "outputs": [
    {
     "name": "stdout",
     "output_type": "stream",
     "text": [
      "Bytes :3\n",
      "File Mono\n",
      "-- Guitar Sample --\n",
      "ID: b'RIFF'\n",
      "Size: 926828\n",
      "format: b'WAVE'\n",
      "sub_chunk_1_id: b'fmt '\n",
      "sub_chunk_1_size: 16\n",
      "audio_format: 1\n",
      "Channels: 1\n",
      "Sample rate: 44100\n",
      "Byte Rate: 132300\n",
      "block_align: 3\n",
      "Bits por sample: 24\n",
      "Sub_Chunk: b'data'\n",
      "Size: 926100\n",
      "\n",
      "Bytes :3\n",
      "File Mono\n",
      "-- IR Sample --\n",
      "ID: b'RIFF'\n",
      "Size: 3800\n",
      "format: b'WAVE'\n",
      "sub_chunk_1_id: b'fmt '\n",
      "sub_chunk_1_size: 16\n",
      "audio_format: 1\n",
      "Channels: 1\n",
      "Sample rate: 44100\n",
      "Byte Rate: 132300\n",
      "block_align: 3\n",
      "Bits por sample: 24\n",
      "Sub_Chunk: b'data'\n",
      "Size: 3072\n",
      "\n",
      "Bytes :2\n",
      "File Stereo n de iteracoes: 177188.0\n"
     ]
    },
    {
     "ename": "TypeError",
     "evalue": "'int' object is not subscriptable",
     "output_type": "error",
     "traceback": [
      "\u001b[0;31m---------------------------------------------------------------------------\u001b[0m",
      "\u001b[0;31mTypeError\u001b[0m                                 Traceback (most recent call last)",
      "\u001b[0;32m<ipython-input-18-db95a59a758b>\u001b[0m in \u001b[0;36m<module>\u001b[0;34m\u001b[0m\n\u001b[1;32m     41\u001b[0m \u001b[0mprint\u001b[0m\u001b[0;34m(\u001b[0m\u001b[0;34m\"Size: \"\u001b[0m \u001b[0;34m+\u001b[0m \u001b[0mstr\u001b[0m\u001b[0;34m(\u001b[0m\u001b[0mbinary_to_integer\u001b[0m\u001b[0;34m(\u001b[0m\u001b[0mir_wav\u001b[0m\u001b[0;34m[\u001b[0m\u001b[0;34m\"sub_chunk_2_size\"\u001b[0m\u001b[0;34m]\u001b[0m\u001b[0;34m)\u001b[0m\u001b[0;34m)\u001b[0m\u001b[0;34m)\u001b[0m\u001b[0;34m\u001b[0m\u001b[0;34m\u001b[0m\u001b[0m\n\u001b[1;32m     42\u001b[0m \u001b[0mprint\u001b[0m\u001b[0;34m(\u001b[0m\u001b[0;34m)\u001b[0m\u001b[0;34m\u001b[0m\u001b[0;34m\u001b[0m\u001b[0m\n\u001b[0;32m---> 43\u001b[0;31m \u001b[0mir_wav2\u001b[0m \u001b[0;34m=\u001b[0m \u001b[0mwav_file\u001b[0m\u001b[0;34m(\u001b[0m\u001b[0mir_wav2\u001b[0m\u001b[0;34m)\u001b[0m\u001b[0;34m\u001b[0m\u001b[0;34m\u001b[0m\u001b[0m\n\u001b[0m\u001b[1;32m     44\u001b[0m \u001b[0mprint\u001b[0m\u001b[0;34m(\u001b[0m\u001b[0;34m\"-- IR2 Sample --\"\u001b[0m\u001b[0;34m)\u001b[0m\u001b[0;34m\u001b[0m\u001b[0;34m\u001b[0m\u001b[0m\n\u001b[1;32m     45\u001b[0m \u001b[0mprint\u001b[0m\u001b[0;34m(\u001b[0m\u001b[0;34m\"ID: \"\u001b[0m \u001b[0;34m+\u001b[0m \u001b[0mstr\u001b[0m\u001b[0;34m(\u001b[0m\u001b[0mir_wav2\u001b[0m\u001b[0;34m[\u001b[0m\u001b[0;34m\"ID\"\u001b[0m\u001b[0;34m]\u001b[0m\u001b[0;34m)\u001b[0m\u001b[0;34m)\u001b[0m\u001b[0;34m\u001b[0m\u001b[0;34m\u001b[0m\u001b[0m\n",
      "\u001b[0;32m<ipython-input-17-3ef218a55319>\u001b[0m in \u001b[0;36mwav_file\u001b[0;34m(file)\u001b[0m\n\u001b[1;32m     30\u001b[0m     \u001b[0;32mif\u001b[0m \u001b[0mbinary_to_integer\u001b[0m\u001b[0;34m(\u001b[0m\u001b[0mresp\u001b[0m\u001b[0;34m[\u001b[0m\u001b[0;34m\"num_channels\"\u001b[0m\u001b[0;34m]\u001b[0m\u001b[0;34m)\u001b[0m \u001b[0;34m==\u001b[0m \u001b[0;36m2\u001b[0m\u001b[0;34m:\u001b[0m\u001b[0;34m\u001b[0m\u001b[0;34m\u001b[0m\u001b[0m\n\u001b[1;32m     31\u001b[0m         \u001b[0mprint\u001b[0m\u001b[0;34m(\u001b[0m\u001b[0;34m\"File Stereo n de iteracoes: \"\u001b[0m \u001b[0;34m+\u001b[0m \u001b[0mstr\u001b[0m\u001b[0;34m(\u001b[0m\u001b[0mlen\u001b[0m\u001b[0;34m(\u001b[0m\u001b[0mfile\u001b[0m\u001b[0;34m[\u001b[0m\u001b[0mdata\u001b[0m\u001b[0;34m:\u001b[0m\u001b[0;34m]\u001b[0m\u001b[0;34m)\u001b[0m \u001b[0;34m/\u001b[0m \u001b[0;36m2\u001b[0m\u001b[0;34m)\u001b[0m\u001b[0;34m)\u001b[0m\u001b[0;34m\u001b[0m\u001b[0;34m\u001b[0m\u001b[0m\n\u001b[0;32m---> 32\u001b[0;31m         \u001b[0mprint\u001b[0m\u001b[0;34m(\u001b[0m\u001b[0mstr\u001b[0m\u001b[0;34m(\u001b[0m\u001b[0misinstance\u001b[0m\u001b[0;34m(\u001b[0m\u001b[0mdata\u001b[0m\u001b[0;34m[\u001b[0m\u001b[0;36m0\u001b[0m\u001b[0;34m]\u001b[0m\u001b[0;34m,\u001b[0m \u001b[0mbytes\u001b[0m\u001b[0;34m)\u001b[0m\u001b[0;34m)\u001b[0m\u001b[0;34m)\u001b[0m\u001b[0;34m\u001b[0m\u001b[0;34m\u001b[0m\u001b[0m\n\u001b[0m\u001b[1;32m     33\u001b[0m         \u001b[0mleft\u001b[0m \u001b[0;34m=\u001b[0m \u001b[0;34mb'0'\u001b[0m\u001b[0;34m\u001b[0m\u001b[0;34m\u001b[0m\u001b[0m\n\u001b[1;32m     34\u001b[0m         \u001b[0mright\u001b[0m \u001b[0;34m=\u001b[0m \u001b[0;34mb'0'\u001b[0m\u001b[0;34m\u001b[0m\u001b[0;34m\u001b[0m\u001b[0m\n",
      "\u001b[0;31mTypeError\u001b[0m: 'int' object is not subscriptable"
     ]
    }
   ],
   "source": [
    "file_example = open(os.path.abspath(os.getcwd()) +\"/../IR/57_2_inch_cone_far_pres_4.wav\", \"rb\")\n",
    "file_example2 = open(os.path.abspath(os.getcwd()) +\"/../IR/IMreverbs/Scala Milan Opera Hall.wav\", \"rb\")\n",
    "#file_example = open(os.path.abspath(os.getcwd()) +\"/../IR/U87_grill_cap_pres_1.wav\", \"rb\")\n",
    "file_line = open(os.path.abspath(os.getcwd())+\"/../data/lineDIST.wav\", \"rb\")\n",
    "#file_line = open(os.path.abspath(os.getcwd())+\"/output.wav\", \"rb\")\n",
    "ir_wav = file_example.read()\n",
    "ir_wav2 = file_example2.read()\n",
    "guitar_line = file_line.read()\n",
    "original = guitar_line\n",
    "\n",
    "guitar_line = wav_file(guitar_line)\n",
    "print(\"-- Guitar Sample --\")\n",
    "print(\"ID: \" + str(guitar_line[\"ID\"]))\n",
    "print(\"Size: \" + str(binary_to_integer(guitar_line[\"size\"])))\n",
    "print(\"format: \" + str(guitar_line[\"format\"]))\n",
    "print(\"sub_chunk_1_id: \" + str(guitar_line[\"sub_chunk_1_id\"]))\n",
    "print(\"sub_chunk_1_size: \" + str(binary_to_integer(guitar_line[\"sub_chunk_1_size\"])))\n",
    "print(\"audio_format: \" + str(binary_to_integer(guitar_line[\"audio_format\"])))\n",
    "print(\"Channels: \" + str(binary_to_integer(guitar_line[\"num_channels\"])))\n",
    "print(\"Sample rate: \" + str(binary_to_integer(guitar_line[\"sample_rate\"])))\n",
    "print(\"Byte Rate: \" + str(binary_to_integer(guitar_line[\"byte_rate\"])))\n",
    "print(\"block_align: \" + str(binary_to_integer(guitar_line[\"block_align\"])))\n",
    "print(\"Bits por sample: \" + str(binary_to_integer(guitar_line[\"bits_per_sample\"])))\n",
    "print(\"Sub_Chunk: \" + str(guitar_line[\"sub_chunk_2_id\"]))\n",
    "print(\"Size: \" + str(binary_to_integer(guitar_line[\"sub_chunk_2_size\"])))\n",
    "print()\n",
    "ir_wav = wav_file(ir_wav)\n",
    "print(\"-- IR Sample --\")\n",
    "print(\"ID: \" + str(ir_wav[\"ID\"]))\n",
    "print(\"Size: \" + str(binary_to_integer(ir_wav[\"size\"])))\n",
    "print(\"format: \" + str(ir_wav[\"format\"]))\n",
    "print(\"sub_chunk_1_id: \" + str(ir_wav[\"sub_chunk_1_id\"]))\n",
    "print(\"sub_chunk_1_size: \" + str(binary_to_integer(ir_wav[\"sub_chunk_1_size\"])))\n",
    "print(\"audio_format: \" + str(binary_to_integer(ir_wav[\"audio_format\"])))\n",
    "print(\"Channels: \" + str(binary_to_integer(ir_wav[\"num_channels\"])))\n",
    "print(\"Sample rate: \" + str(binary_to_integer(ir_wav[\"sample_rate\"])))\n",
    "print(\"Byte Rate: \" + str(binary_to_integer(ir_wav[\"byte_rate\"])))\n",
    "print(\"block_align: \" + str(binary_to_integer(ir_wav[\"block_align\"])))\n",
    "print(\"Bits por sample: \" + str(binary_to_integer(ir_wav[\"bits_per_sample\"])))\n",
    "print(\"Sub_Chunk: \" + str(ir_wav[\"sub_chunk_2_id\"]))\n",
    "print(\"Size: \" + str(binary_to_integer(ir_wav[\"sub_chunk_2_size\"])))\n",
    "print()\n",
    "ir_wav2 = wav_file(ir_wav2)\n",
    "print(\"-- IR2 Sample --\")\n",
    "print(\"ID: \" + str(ir_wav2[\"ID\"]))\n",
    "print(\"Size: \" + str(binary_to_integer(ir_wav2[\"size\"])))\n",
    "print(\"format: \" + str(ir_wav2[\"format\"]))\n",
    "print(\"sub_chunk_1_id: \" + str(ir_wav2[\"sub_chunk_1_id\"]))\n",
    "print(\"sub_chunk_1_size: \" + str(binary_to_integer(ir_wav2[\"sub_chunk_1_size\"])))\n",
    "print(\"audio_format: \" + str(binary_to_integer(ir_wav2[\"audio_format\"])))\n",
    "print(\"Channels: \" + str(binary_to_integer(ir_wav2[\"num_channels\"])))\n",
    "print(\"Sample rate: \" + str(binary_to_integer(ir_wav2[\"sample_rate\"])))\n",
    "print(\"Byte Rate: \" + str(binary_to_integer(ir_wav2[\"byte_rate\"])))\n",
    "print(\"block_align: \" + str(binary_to_integer(ir_wav2[\"block_align\"])))\n",
    "print(\"Bits por sample: \" + str(binary_to_integer(ir_wav2[\"bits_per_sample\"])))\n",
    "print(\"Sub_Chunk: \" + str(ir_wav2[\"sub_chunk_2_id\"]))\n",
    "print(\"Size: \" + str(binary_to_integer(ir_wav2[\"sub_chunk_2_size\"])))"
   ]
  },
  {
   "cell_type": "code",
   "execution_count": null,
   "metadata": {},
   "outputs": [],
   "source": [
    "data_guitar = data_converter_integer(guitar_line[\"data\"], binary_to_integer(guitar_line[\"bits_per_sample\"]))\n",
    "print(\"maxBIT -> \" + str(max(data_guitar)))\n",
    "data_guitar = byte_db(data_guitar, binary_to_integer(guitar_line[\"bits_per_sample\"]))\n",
    "print(\"max -> \" + str(max(data_guitar)))\n",
    "print(\"min -> \" + str(min(data_guitar)))\n",
    "print(\"tam -> \" + str(len(data_guitar)))\n"
   ]
  },
  {
   "cell_type": "code",
   "execution_count": null,
   "metadata": {},
   "outputs": [],
   "source": [
    "ir_wav2"
   ]
  },
  {
   "cell_type": "code",
   "execution_count": null,
   "metadata": {},
   "outputs": [],
   "source": [
    "data_ir = data_converter_integer(ira_wav[\"data\"], binary_to_integer(ir_wav[\"bits_per_sample\"]))\n",
    "print(\"max BIT-> \" + str(max(data_ir)))\n",
    "data_ir = byte_db(data_ir, binary_to_integer(ir_wav[\"bits_per_sample\"]))\n",
    "print(\"max -> \" + str(max(data_ir)))\n",
    "print(\"min -> \" + str(min(data_ir)))\n",
    "print(\"tam -> \" + str(len(data_ir)))\n",
    "data_ir2_l = data_converter_integer(ir_wav2[\"data_left\"], binary_to_integer(ir_wav2[\"bits_per_sample\"]))\n",
    "data_ir2_r = data_converter_integer(ir_wav2[\"data_right\"], binary_to_integer(ir_wav2[\"bits_per_sample\"]))\n",
    "data_ir2_l = byte_db(data_ir, binary_to_integer(ir_wav2[\"bits_per_sample\"]))\n",
    "data_ir2_r = byte_db(data_ir, binary_to_integer(ir_wav2[\"bits_per_sample\"]))"
   ]
  },
  {
   "cell_type": "code",
   "execution_count": null,
   "metadata": {},
   "outputs": [],
   "source": [
    "import matplotlib.pyplot as plt\n",
    "x = [0]\n",
    "for i in range(1, len(data_guitar)):\n",
    "    x.append( x[i-1] + (1 / binary_to_integer(guitar_line[\"sample_rate\"])) )\n",
    "x_1 = [0]\n",
    "for i in range(1, len(data_ir)):\n",
    "    x_1.append( x_1[i-1] + (1 / binary_to_integer(ir_wav[\"sample_rate\"])) )\n",
    "x_2 = [0]\n",
    "for i in range(1, len(data_ir)):\n",
    "    x_2.append( x_2[i-1] + (1 / binary_to_integer(ir_wav2[\"sample_rate\"])) )"
   ]
  },
  {
   "cell_type": "code",
   "execution_count": null,
   "metadata": {},
   "outputs": [],
   "source": [
    "plt.rcParams['figure.figsize'] = [20, 10]\n",
    "plt.plot(x, data_guitar)\n",
    "plt.show()\n",
    "plt.rcParams['figure.figsize'] = [20, 10]\n",
    "plt.plot(x_1, data_ir)\n",
    "plt.show()\n",
    "plt.rcParams['figure.figsize'] = [20, 10]\n",
    "plt.plot(x_2, data_ir)\n",
    "plt.show()\n",
    "plt.rcParams['figure.figsize'] = [20, 10]\n",
    "plt.plot(x_2, data_ir)\n",
    "plt.show()"
   ]
  },
  {
   "cell_type": "code",
   "execution_count": null,
   "metadata": {
    "scrolled": false
   },
   "outputs": [],
   "source": [
    "data_ir_res = convolution(data_ir, data_guitar)\n",
    "plt.rcParams['figure.figsize'] = [20, 10]\n",
    "plt.plot(x, data_ir_res)\n",
    "plt.show()"
   ]
  },
  {
   "cell_type": "code",
   "execution_count": null,
   "metadata": {},
   "outputs": [],
   "source": [
    "data = create_data(data_ir_res, binary_to_integer(guitar_line[\"bits_per_sample\"]))\n",
    "new_file = original[0:736] + bytes(data)\n",
    "f = open(\"output.wav\", \"wb\")\n",
    "f.write(new_file)\n",
    "f.close()"
   ]
  }
 ],
 "metadata": {
  "kernelspec": {
   "display_name": "Python [conda env:py3] *",
   "language": "python",
   "name": "conda-env-py3-py"
  },
  "language_info": {
   "codemirror_mode": {
    "name": "ipython",
    "version": 3
   },
   "file_extension": ".py",
   "mimetype": "text/x-python",
   "name": "python",
   "nbconvert_exporter": "python",
   "pygments_lexer": "ipython3",
   "version": "3.6.9"
  }
 },
 "nbformat": 4,
 "nbformat_minor": 2
}
